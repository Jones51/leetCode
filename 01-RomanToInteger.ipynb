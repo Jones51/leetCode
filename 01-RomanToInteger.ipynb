{
 "cells": [
  {
   "cell_type": "markdown",
   "metadata": {},
   "source": [
    "Roman numerals are represented by seven different symbols: I, V, X, L, C, D and M.\n",
    "\n",
    "Symbol       Value\n",
    "I             1\n",
    "V             5\n",
    "X             10\n",
    "L             50\n",
    "C             100\n",
    "D             500\n",
    "M             1000\n",
    "For example, 2 is written as II in Roman numeral, just two ones added together. 12 is written as XII, which is simply X + II. The number 27 is written as XXVII, which is XX + V + II.\n",
    "\n",
    "Roman numerals are usually written largest to smallest from left to right. However, the numeral for four is not IIII. Instead, the number four is written as IV. Because the one is before the five we subtract it making four. The same principle applies to the number nine, which is written as IX. There are six instances where subtraction is used:\n",
    "\n",
    "I can be placed before V (5) and X (10) to make 4 and 9. \n",
    "X can be placed before L (50) and C (100) to make 40 and 90. \n",
    "C can be placed before D (500) and M (1000) to make 400 and 900.\n",
    "Given a roman numeral, convert it to an integer."
   ]
  },
  {
   "cell_type": "code",
   "execution_count": null,
   "metadata": {},
   "outputs": [],
   "source": [
    "class Solution:\n",
    "    def romanToInt(self, s: str) -> int:\n",
    "        '''\n",
    "        \n",
    "        '''\n",
    "        Dic_roman_commom = {\"I\": 1,\"V\":5,\"X\":10,\"L\":50,\"C\":100,\"D\":500,\"M\":1000}\n",
    "        Dic_roman_sub = {\"IV\":4,\"IX\":9,\"XL\":40,\"XC\":90,\"CD\":400,\"CM\":900}\n",
    "        amount = 0\n",
    "        string = s\n",
    "\n",
    "        for keys in Dic_roman_sub:\n",
    "            if string.__contains__(keys):\n",
    "                amount = amount + (int(Dic_roman_sub[keys]) * int(string.count(keys)))\n",
    "                string = string.replace(keys, \"\")\n",
    "\n",
    "        for keys in Dic_roman_commom:\n",
    "            if string.__contains__(keys):\n",
    "                amount = amount + (int(Dic_roman_commom[keys]) * int(string.count(keys)))\n",
    "                \n",
    "        return amount"
   ]
  }
 ],
 "metadata": {
  "kernelspec": {
   "display_name": "Python 3.9.13 64-bit",
   "language": "python",
   "name": "python3"
  },
  "language_info": {
   "codemirror_mode": {
    "name": "ipython",
    "version": 3
   },
   "file_extension": ".py",
   "mimetype": "text/x-python",
   "name": "python",
   "nbconvert_exporter": "python",
   "pygments_lexer": "ipython3",
   "version": "3.9.13"
  },
  "orig_nbformat": 4,
  "vscode": {
   "interpreter": {
    "hash": "1b78f76bd3df3341e6c6f36d6bc4581b09bb4a2d5361133fb986119b25118531"
   }
  }
 },
 "nbformat": 4,
 "nbformat_minor": 2
}
